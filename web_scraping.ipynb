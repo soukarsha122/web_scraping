{
  "nbformat": 4,
  "nbformat_minor": 0,
  "metadata": {
    "colab": {
      "provenance": [],
      "authorship_tag": "ABX9TyORnfZN5V3QgsWHQK/1+clZ",
      "include_colab_link": true
    },
    "kernelspec": {
      "name": "python3",
      "display_name": "Python 3"
    },
    "language_info": {
      "name": "python"
    }
  },
  "cells": [
    {
      "cell_type": "markdown",
      "metadata": {
        "id": "view-in-github",
        "colab_type": "text"
      },
      "source": [
        "<a href=\"https://colab.research.google.com/github/soukarsha122/web_scraping/blob/main/web_scraping.ipynb\" target=\"_parent\"><img src=\"https://colab.research.google.com/assets/colab-badge.svg\" alt=\"Open In Colab\"/></a>"
      ]
    },
    {
      "cell_type": "markdown",
      "source": [
        "# Top Repositories for GitHub Topics"
      ],
      "metadata": {
        "id": "SkP_XAbhS4Ho"
      }
    },
    {
      "cell_type": "markdown",
      "source": [
        "## Project Overview / Idea\n",
        "\n",
        "- We are going to scrape https://github.com/topics\n",
        "- We'll get a list of topics. For each topic we will get the topic title, topic page URL and topic description\n",
        "- For each topic we will get top 25 repositories from the topic page\n",
        "- For each repository we will take the repo name, repo url, username and stars\n",
        "- For each topic we will make a seperate CSV file in following format\n",
        "\n",
        "```\n",
        "Repo Name, Username, Stars, Repo URL\n",
        "<Data...............................>\n",
        "```"
      ],
      "metadata": {
        "id": "nSi4Ss-cT1k_"
      }
    },
    {
      "cell_type": "markdown",
      "source": [
        "### ***requets*** library is used to download web pages"
      ],
      "metadata": {
        "id": "zIu5W7yBXR6D"
      }
    },
    {
      "cell_type": "code",
      "source": [
        "!pip install requests --upgrade --quiet"
      ],
      "metadata": {
        "id": "guL8PnwpWLKI"
      },
      "execution_count": null,
      "outputs": []
    },
    {
      "cell_type": "code",
      "source": [
        "import requests"
      ],
      "metadata": {
        "id": "gs2A5ODZXC6j"
      },
      "execution_count": null,
      "outputs": []
    },
    {
      "cell_type": "code",
      "source": [
        "topics_url = \"https://github.com/topics\""
      ],
      "metadata": {
        "id": "cfdBJDaFXnUe"
      },
      "execution_count": null,
      "outputs": []
    },
    {
      "cell_type": "code",
      "source": [
        "response = requests.get(topics_url)"
      ],
      "metadata": {
        "id": "w4JpuvcFXsO3"
      },
      "execution_count": null,
      "outputs": []
    },
    {
      "cell_type": "code",
      "source": [
        "if response.status_code != 200:\n",
        "    raise Exception(f\"Request failed with status code: {response.status_code}\")"
      ],
      "metadata": {
        "id": "eXGe0tP2X6Fb"
      },
      "execution_count": null,
      "outputs": []
    },
    {
      "cell_type": "code",
      "source": [
        "page_contents = response.text"
      ],
      "metadata": {
        "id": "2ERT-FrhYT6d"
      },
      "execution_count": null,
      "outputs": []
    },
    {
      "cell_type": "code",
      "source": [
        "with open('webpage.html','w') as f:\n",
        "  f.write(page_contents)"
      ],
      "metadata": {
        "id": "ljM5Za_3YnaP"
      },
      "execution_count": null,
      "outputs": []
    },
    {
      "cell_type": "markdown",
      "source": [
        "### Using **beautiful_soup** to parse and extract information"
      ],
      "metadata": {
        "id": "vkOlOlAiY_FW"
      }
    },
    {
      "cell_type": "code",
      "source": [
        "!pip install beautifulsoup4 --upgrade --quiet"
      ],
      "metadata": {
        "id": "YHMYx_PqaOVO"
      },
      "execution_count": null,
      "outputs": []
    },
    {
      "cell_type": "code",
      "source": [
        "from bs4 import BeautifulSoup"
      ],
      "metadata": {
        "id": "_3Iyea3xaXR9"
      },
      "execution_count": null,
      "outputs": []
    },
    {
      "cell_type": "code",
      "source": [
        "doc = BeautifulSoup(page_contents, 'html.parser')"
      ],
      "metadata": {
        "id": "RzQ0jFmsa5wc"
      },
      "execution_count": null,
      "outputs": []
    },
    {
      "cell_type": "code",
      "source": [
        "#topic title tags\n",
        "selection_class = 'f3 lh-condensed mb-0 mt-1 Link--primary'\n",
        "topic_title_tags = doc.find_all('p',{'class' : selection_class})\n",
        "\n",
        "# procure topic titles from the title tag\n",
        "topic_titles = []\n",
        "for tag in topic_title_tags:\n",
        "  topic_titles.append(tag.text)"
      ],
      "metadata": {
        "id": "4hgATKKYa6r0"
      },
      "execution_count": null,
      "outputs": []
    },
    {
      "cell_type": "code",
      "source": [
        "topic_title_tags[:5]"
      ],
      "metadata": {
        "colab": {
          "base_uri": "https://localhost:8080/"
        },
        "id": "b_zqjkjucXvm",
        "outputId": "4617687c-d65f-408b-e99f-26e569d2e4ce"
      },
      "execution_count": null,
      "outputs": [
        {
          "output_type": "execute_result",
          "data": {
            "text/plain": [
              "[<p class=\"f3 lh-condensed mb-0 mt-1 Link--primary\">3D</p>,\n",
              " <p class=\"f3 lh-condensed mb-0 mt-1 Link--primary\">Ajax</p>,\n",
              " <p class=\"f3 lh-condensed mb-0 mt-1 Link--primary\">Algorithm</p>,\n",
              " <p class=\"f3 lh-condensed mb-0 mt-1 Link--primary\">Amp</p>,\n",
              " <p class=\"f3 lh-condensed mb-0 mt-1 Link--primary\">Android</p>]"
            ]
          },
          "metadata": {},
          "execution_count": 100
        }
      ]
    },
    {
      "cell_type": "code",
      "source": [
        "#topic description tags\n",
        "description_selector = 'f5 color-fg-muted mb-0 mt-1'\n",
        "topic_desc_tags = doc.find_all('p',{'class' : description_selector})\n",
        "\n",
        "# procure topic descriptions from the description tags\n",
        "topic_descs = []\n",
        "for tag in topic_desc_tags:\n",
        "  topic_descs.append(tag.text.strip())"
      ],
      "metadata": {
        "id": "ue36CAm9bFr5"
      },
      "execution_count": null,
      "outputs": []
    },
    {
      "cell_type": "code",
      "source": [
        "topic_desc_tags[:5]"
      ],
      "metadata": {
        "colab": {
          "base_uri": "https://localhost:8080/"
        },
        "id": "XQNnm2HbR9FN",
        "outputId": "f6e30746-d3a8-4682-f3ad-9e5836ab5110"
      },
      "execution_count": null,
      "outputs": [
        {
          "output_type": "execute_result",
          "data": {
            "text/plain": [
              "[<p class=\"f5 color-fg-muted mb-0 mt-1\">\n",
              "           3D refers to the use of three-dimensional graphics, modeling, and animation in various industries.\n",
              "         </p>,\n",
              " <p class=\"f5 color-fg-muted mb-0 mt-1\">\n",
              "           Ajax is a technique for creating interactive web applications.\n",
              "         </p>,\n",
              " <p class=\"f5 color-fg-muted mb-0 mt-1\">\n",
              "           Algorithms are self-contained sequences that carry out a variety of tasks.\n",
              "         </p>,\n",
              " <p class=\"f5 color-fg-muted mb-0 mt-1\">\n",
              "           Amp is a non-blocking concurrency library for PHP.\n",
              "         </p>,\n",
              " <p class=\"f5 color-fg-muted mb-0 mt-1\">\n",
              "           Android is an operating system built by Google designed for mobile devices.\n",
              "         </p>]"
            ]
          },
          "metadata": {},
          "execution_count": 102
        }
      ]
    },
    {
      "cell_type": "code",
      "source": [
        "#topic link tags\n",
        "topic_link_tags = []\n",
        "for i in range(len(topic_title_tags)):\n",
        "  topic_link_tags.append(topic_title_tags[i].parent)\n",
        "\n",
        "# procure topic urls/links from the link tags\n",
        "topic_url = []\n",
        "for i in range(len(topic_link_tags)):\n",
        "  topic_url.append(\"https://github.com\" + topic_link_tags[i].get(\"href\"))"
      ],
      "metadata": {
        "id": "dySK-xOISH7d"
      },
      "execution_count": null,
      "outputs": []
    },
    {
      "cell_type": "code",
      "source": [
        "import pandas as pd\n",
        "\n",
        "topics_dict = {\n",
        "\n",
        "    'title' : topic_titles,\n",
        "    'description' : topic_descs,\n",
        "    'url' : topic_url\n",
        "}\n",
        "topics_df = pd.DataFrame(topics_dict)"
      ],
      "metadata": {
        "id": "o4q6F6yjbcF0"
      },
      "execution_count": null,
      "outputs": []
    },
    {
      "cell_type": "code",
      "source": [
        "topics_df"
      ],
      "metadata": {
        "colab": {
          "base_uri": "https://localhost:8080/",
          "height": 1000
        },
        "id": "HX7JwxpqcLzl",
        "outputId": "0038cbc7-272c-4012-db0a-d485ed359d73"
      },
      "execution_count": null,
      "outputs": [
        {
          "output_type": "execute_result",
          "data": {
            "text/plain": [
              "                     title                                        description  \\\n",
              "0                       3D  3D refers to the use of three-dimensional grap...   \n",
              "1                     Ajax  Ajax is a technique for creating interactive w...   \n",
              "2                Algorithm  Algorithms are self-contained sequences that c...   \n",
              "3                      Amp  Amp is a non-blocking concurrency library for ...   \n",
              "4                  Android  Android is an operating system built by Google...   \n",
              "5                  Angular  Angular is an open source web application plat...   \n",
              "6                  Ansible  Ansible is a simple and powerful automation en...   \n",
              "7                      API  An API (Application Programming Interface) is ...   \n",
              "8                  Arduino  Arduino is an open source platform for buildin...   \n",
              "9                  ASP.NET  ASP.NET is a web framework for building modern...   \n",
              "10                    Atom  Atom is a open source text editor built with w...   \n",
              "11           Awesome Lists  An awesome list is a list of awesome things cu...   \n",
              "12     Amazon Web Services  Amazon Web Services provides on-demand cloud c...   \n",
              "13                   Azure  Azure is a cloud computing service created by ...   \n",
              "14                   Babel  Babel is a compiler for writing next generatio...   \n",
              "15                    Bash  Bash is a shell and command language interpret...   \n",
              "16                 Bitcoin  Bitcoin is a cryptocurrency developed by Satos...   \n",
              "17               Bootstrap  Bootstrap is an HTML, CSS, and JavaScript fram...   \n",
              "18                     Bot  A bot is an application that runs automated ta...   \n",
              "19                       C  C is a general purpose programming language th...   \n",
              "20                  Chrome  Chrome is a web browser from the tech company ...   \n",
              "21        Chrome extension  Chrome extensions enable users to customize th...   \n",
              "22  Command line interface  A CLI, or command-line interface, is a console...   \n",
              "23                 Clojure  Clojure is a dynamic, general-purpose programm...   \n",
              "24            Code quality  Automate your code review with style, quality,...   \n",
              "25             Code review  Ensure your code meets quality standards and s...   \n",
              "26                Compiler  Compilers are software that translate higher-l...   \n",
              "27  Continuous integration  Automatically build and test your code as you ...   \n",
              "28                COVID-19  The coronavirus disease 2019 (COVID-19) is an ...   \n",
              "29                     C++  C++ is a general purpose and object-oriented p...   \n",
              "\n",
              "                                                 url  \n",
              "0                       https://github.com/topics/3d  \n",
              "1                     https://github.com/topics/ajax  \n",
              "2                https://github.com/topics/algorithm  \n",
              "3                    https://github.com/topics/amphp  \n",
              "4                  https://github.com/topics/android  \n",
              "5                  https://github.com/topics/angular  \n",
              "6                  https://github.com/topics/ansible  \n",
              "7                      https://github.com/topics/api  \n",
              "8                  https://github.com/topics/arduino  \n",
              "9                   https://github.com/topics/aspnet  \n",
              "10                    https://github.com/topics/atom  \n",
              "11                 https://github.com/topics/awesome  \n",
              "12                     https://github.com/topics/aws  \n",
              "13                   https://github.com/topics/azure  \n",
              "14                   https://github.com/topics/babel  \n",
              "15                    https://github.com/topics/bash  \n",
              "16                 https://github.com/topics/bitcoin  \n",
              "17               https://github.com/topics/bootstrap  \n",
              "18                     https://github.com/topics/bot  \n",
              "19                       https://github.com/topics/c  \n",
              "20                  https://github.com/topics/chrome  \n",
              "21        https://github.com/topics/chrome-extension  \n",
              "22                     https://github.com/topics/cli  \n",
              "23                 https://github.com/topics/clojure  \n",
              "24            https://github.com/topics/code-quality  \n",
              "25             https://github.com/topics/code-review  \n",
              "26                https://github.com/topics/compiler  \n",
              "27  https://github.com/topics/continuous-integration  \n",
              "28                https://github.com/topics/covid-19  \n",
              "29                     https://github.com/topics/cpp  "
            ],
            "text/html": [
              "\n",
              "  <div id=\"df-6e02df90-9423-40ec-a575-c7825276c905\" class=\"colab-df-container\">\n",
              "    <div>\n",
              "<style scoped>\n",
              "    .dataframe tbody tr th:only-of-type {\n",
              "        vertical-align: middle;\n",
              "    }\n",
              "\n",
              "    .dataframe tbody tr th {\n",
              "        vertical-align: top;\n",
              "    }\n",
              "\n",
              "    .dataframe thead th {\n",
              "        text-align: right;\n",
              "    }\n",
              "</style>\n",
              "<table border=\"1\" class=\"dataframe\">\n",
              "  <thead>\n",
              "    <tr style=\"text-align: right;\">\n",
              "      <th></th>\n",
              "      <th>title</th>\n",
              "      <th>description</th>\n",
              "      <th>url</th>\n",
              "    </tr>\n",
              "  </thead>\n",
              "  <tbody>\n",
              "    <tr>\n",
              "      <th>0</th>\n",
              "      <td>3D</td>\n",
              "      <td>3D refers to the use of three-dimensional grap...</td>\n",
              "      <td>https://github.com/topics/3d</td>\n",
              "    </tr>\n",
              "    <tr>\n",
              "      <th>1</th>\n",
              "      <td>Ajax</td>\n",
              "      <td>Ajax is a technique for creating interactive w...</td>\n",
              "      <td>https://github.com/topics/ajax</td>\n",
              "    </tr>\n",
              "    <tr>\n",
              "      <th>2</th>\n",
              "      <td>Algorithm</td>\n",
              "      <td>Algorithms are self-contained sequences that c...</td>\n",
              "      <td>https://github.com/topics/algorithm</td>\n",
              "    </tr>\n",
              "    <tr>\n",
              "      <th>3</th>\n",
              "      <td>Amp</td>\n",
              "      <td>Amp is a non-blocking concurrency library for ...</td>\n",
              "      <td>https://github.com/topics/amphp</td>\n",
              "    </tr>\n",
              "    <tr>\n",
              "      <th>4</th>\n",
              "      <td>Android</td>\n",
              "      <td>Android is an operating system built by Google...</td>\n",
              "      <td>https://github.com/topics/android</td>\n",
              "    </tr>\n",
              "    <tr>\n",
              "      <th>5</th>\n",
              "      <td>Angular</td>\n",
              "      <td>Angular is an open source web application plat...</td>\n",
              "      <td>https://github.com/topics/angular</td>\n",
              "    </tr>\n",
              "    <tr>\n",
              "      <th>6</th>\n",
              "      <td>Ansible</td>\n",
              "      <td>Ansible is a simple and powerful automation en...</td>\n",
              "      <td>https://github.com/topics/ansible</td>\n",
              "    </tr>\n",
              "    <tr>\n",
              "      <th>7</th>\n",
              "      <td>API</td>\n",
              "      <td>An API (Application Programming Interface) is ...</td>\n",
              "      <td>https://github.com/topics/api</td>\n",
              "    </tr>\n",
              "    <tr>\n",
              "      <th>8</th>\n",
              "      <td>Arduino</td>\n",
              "      <td>Arduino is an open source platform for buildin...</td>\n",
              "      <td>https://github.com/topics/arduino</td>\n",
              "    </tr>\n",
              "    <tr>\n",
              "      <th>9</th>\n",
              "      <td>ASP.NET</td>\n",
              "      <td>ASP.NET is a web framework for building modern...</td>\n",
              "      <td>https://github.com/topics/aspnet</td>\n",
              "    </tr>\n",
              "    <tr>\n",
              "      <th>10</th>\n",
              "      <td>Atom</td>\n",
              "      <td>Atom is a open source text editor built with w...</td>\n",
              "      <td>https://github.com/topics/atom</td>\n",
              "    </tr>\n",
              "    <tr>\n",
              "      <th>11</th>\n",
              "      <td>Awesome Lists</td>\n",
              "      <td>An awesome list is a list of awesome things cu...</td>\n",
              "      <td>https://github.com/topics/awesome</td>\n",
              "    </tr>\n",
              "    <tr>\n",
              "      <th>12</th>\n",
              "      <td>Amazon Web Services</td>\n",
              "      <td>Amazon Web Services provides on-demand cloud c...</td>\n",
              "      <td>https://github.com/topics/aws</td>\n",
              "    </tr>\n",
              "    <tr>\n",
              "      <th>13</th>\n",
              "      <td>Azure</td>\n",
              "      <td>Azure is a cloud computing service created by ...</td>\n",
              "      <td>https://github.com/topics/azure</td>\n",
              "    </tr>\n",
              "    <tr>\n",
              "      <th>14</th>\n",
              "      <td>Babel</td>\n",
              "      <td>Babel is a compiler for writing next generatio...</td>\n",
              "      <td>https://github.com/topics/babel</td>\n",
              "    </tr>\n",
              "    <tr>\n",
              "      <th>15</th>\n",
              "      <td>Bash</td>\n",
              "      <td>Bash is a shell and command language interpret...</td>\n",
              "      <td>https://github.com/topics/bash</td>\n",
              "    </tr>\n",
              "    <tr>\n",
              "      <th>16</th>\n",
              "      <td>Bitcoin</td>\n",
              "      <td>Bitcoin is a cryptocurrency developed by Satos...</td>\n",
              "      <td>https://github.com/topics/bitcoin</td>\n",
              "    </tr>\n",
              "    <tr>\n",
              "      <th>17</th>\n",
              "      <td>Bootstrap</td>\n",
              "      <td>Bootstrap is an HTML, CSS, and JavaScript fram...</td>\n",
              "      <td>https://github.com/topics/bootstrap</td>\n",
              "    </tr>\n",
              "    <tr>\n",
              "      <th>18</th>\n",
              "      <td>Bot</td>\n",
              "      <td>A bot is an application that runs automated ta...</td>\n",
              "      <td>https://github.com/topics/bot</td>\n",
              "    </tr>\n",
              "    <tr>\n",
              "      <th>19</th>\n",
              "      <td>C</td>\n",
              "      <td>C is a general purpose programming language th...</td>\n",
              "      <td>https://github.com/topics/c</td>\n",
              "    </tr>\n",
              "    <tr>\n",
              "      <th>20</th>\n",
              "      <td>Chrome</td>\n",
              "      <td>Chrome is a web browser from the tech company ...</td>\n",
              "      <td>https://github.com/topics/chrome</td>\n",
              "    </tr>\n",
              "    <tr>\n",
              "      <th>21</th>\n",
              "      <td>Chrome extension</td>\n",
              "      <td>Chrome extensions enable users to customize th...</td>\n",
              "      <td>https://github.com/topics/chrome-extension</td>\n",
              "    </tr>\n",
              "    <tr>\n",
              "      <th>22</th>\n",
              "      <td>Command line interface</td>\n",
              "      <td>A CLI, or command-line interface, is a console...</td>\n",
              "      <td>https://github.com/topics/cli</td>\n",
              "    </tr>\n",
              "    <tr>\n",
              "      <th>23</th>\n",
              "      <td>Clojure</td>\n",
              "      <td>Clojure is a dynamic, general-purpose programm...</td>\n",
              "      <td>https://github.com/topics/clojure</td>\n",
              "    </tr>\n",
              "    <tr>\n",
              "      <th>24</th>\n",
              "      <td>Code quality</td>\n",
              "      <td>Automate your code review with style, quality,...</td>\n",
              "      <td>https://github.com/topics/code-quality</td>\n",
              "    </tr>\n",
              "    <tr>\n",
              "      <th>25</th>\n",
              "      <td>Code review</td>\n",
              "      <td>Ensure your code meets quality standards and s...</td>\n",
              "      <td>https://github.com/topics/code-review</td>\n",
              "    </tr>\n",
              "    <tr>\n",
              "      <th>26</th>\n",
              "      <td>Compiler</td>\n",
              "      <td>Compilers are software that translate higher-l...</td>\n",
              "      <td>https://github.com/topics/compiler</td>\n",
              "    </tr>\n",
              "    <tr>\n",
              "      <th>27</th>\n",
              "      <td>Continuous integration</td>\n",
              "      <td>Automatically build and test your code as you ...</td>\n",
              "      <td>https://github.com/topics/continuous-integration</td>\n",
              "    </tr>\n",
              "    <tr>\n",
              "      <th>28</th>\n",
              "      <td>COVID-19</td>\n",
              "      <td>The coronavirus disease 2019 (COVID-19) is an ...</td>\n",
              "      <td>https://github.com/topics/covid-19</td>\n",
              "    </tr>\n",
              "    <tr>\n",
              "      <th>29</th>\n",
              "      <td>C++</td>\n",
              "      <td>C++ is a general purpose and object-oriented p...</td>\n",
              "      <td>https://github.com/topics/cpp</td>\n",
              "    </tr>\n",
              "  </tbody>\n",
              "</table>\n",
              "</div>\n",
              "    <div class=\"colab-df-buttons\">\n",
              "\n",
              "  <div class=\"colab-df-container\">\n",
              "    <button class=\"colab-df-convert\" onclick=\"convertToInteractive('df-6e02df90-9423-40ec-a575-c7825276c905')\"\n",
              "            title=\"Convert this dataframe to an interactive table.\"\n",
              "            style=\"display:none;\">\n",
              "\n",
              "  <svg xmlns=\"http://www.w3.org/2000/svg\" height=\"24px\" viewBox=\"0 -960 960 960\">\n",
              "    <path d=\"M120-120v-720h720v720H120Zm60-500h600v-160H180v160Zm220 220h160v-160H400v160Zm0 220h160v-160H400v160ZM180-400h160v-160H180v160Zm440 0h160v-160H620v160ZM180-180h160v-160H180v160Zm440 0h160v-160H620v160Z\"/>\n",
              "  </svg>\n",
              "    </button>\n",
              "\n",
              "  <style>\n",
              "    .colab-df-container {\n",
              "      display:flex;\n",
              "      gap: 12px;\n",
              "    }\n",
              "\n",
              "    .colab-df-convert {\n",
              "      background-color: #E8F0FE;\n",
              "      border: none;\n",
              "      border-radius: 50%;\n",
              "      cursor: pointer;\n",
              "      display: none;\n",
              "      fill: #1967D2;\n",
              "      height: 32px;\n",
              "      padding: 0 0 0 0;\n",
              "      width: 32px;\n",
              "    }\n",
              "\n",
              "    .colab-df-convert:hover {\n",
              "      background-color: #E2EBFA;\n",
              "      box-shadow: 0px 1px 2px rgba(60, 64, 67, 0.3), 0px 1px 3px 1px rgba(60, 64, 67, 0.15);\n",
              "      fill: #174EA6;\n",
              "    }\n",
              "\n",
              "    .colab-df-buttons div {\n",
              "      margin-bottom: 4px;\n",
              "    }\n",
              "\n",
              "    [theme=dark] .colab-df-convert {\n",
              "      background-color: #3B4455;\n",
              "      fill: #D2E3FC;\n",
              "    }\n",
              "\n",
              "    [theme=dark] .colab-df-convert:hover {\n",
              "      background-color: #434B5C;\n",
              "      box-shadow: 0px 1px 3px 1px rgba(0, 0, 0, 0.15);\n",
              "      filter: drop-shadow(0px 1px 2px rgba(0, 0, 0, 0.3));\n",
              "      fill: #FFFFFF;\n",
              "    }\n",
              "  </style>\n",
              "\n",
              "    <script>\n",
              "      const buttonEl =\n",
              "        document.querySelector('#df-6e02df90-9423-40ec-a575-c7825276c905 button.colab-df-convert');\n",
              "      buttonEl.style.display =\n",
              "        google.colab.kernel.accessAllowed ? 'block' : 'none';\n",
              "\n",
              "      async function convertToInteractive(key) {\n",
              "        const element = document.querySelector('#df-6e02df90-9423-40ec-a575-c7825276c905');\n",
              "        const dataTable =\n",
              "          await google.colab.kernel.invokeFunction('convertToInteractive',\n",
              "                                                    [key], {});\n",
              "        if (!dataTable) return;\n",
              "\n",
              "        const docLinkHtml = 'Like what you see? Visit the ' +\n",
              "          '<a target=\"_blank\" href=https://colab.research.google.com/notebooks/data_table.ipynb>data table notebook</a>'\n",
              "          + ' to learn more about interactive tables.';\n",
              "        element.innerHTML = '';\n",
              "        dataTable['output_type'] = 'display_data';\n",
              "        await google.colab.output.renderOutput(dataTable, element);\n",
              "        const docLink = document.createElement('div');\n",
              "        docLink.innerHTML = docLinkHtml;\n",
              "        element.appendChild(docLink);\n",
              "      }\n",
              "    </script>\n",
              "  </div>\n",
              "\n",
              "\n",
              "<div id=\"df-175fe40e-81a9-4783-b09b-039932b6ee22\">\n",
              "  <button class=\"colab-df-quickchart\" onclick=\"quickchart('df-175fe40e-81a9-4783-b09b-039932b6ee22')\"\n",
              "            title=\"Suggest charts.\"\n",
              "            style=\"display:none;\">\n",
              "\n",
              "<svg xmlns=\"http://www.w3.org/2000/svg\" height=\"24px\"viewBox=\"0 0 24 24\"\n",
              "     width=\"24px\">\n",
              "    <g>\n",
              "        <path d=\"M19 3H5c-1.1 0-2 .9-2 2v14c0 1.1.9 2 2 2h14c1.1 0 2-.9 2-2V5c0-1.1-.9-2-2-2zM9 17H7v-7h2v7zm4 0h-2V7h2v10zm4 0h-2v-4h2v4z\"/>\n",
              "    </g>\n",
              "</svg>\n",
              "  </button>\n",
              "\n",
              "<style>\n",
              "  .colab-df-quickchart {\n",
              "    background-color: #E8F0FE;\n",
              "    border: none;\n",
              "    border-radius: 50%;\n",
              "    cursor: pointer;\n",
              "    display: none;\n",
              "    fill: #1967D2;\n",
              "    height: 32px;\n",
              "    padding: 0 0 0 0;\n",
              "    width: 32px;\n",
              "  }\n",
              "\n",
              "  .colab-df-quickchart:hover {\n",
              "    background-color: #E2EBFA;\n",
              "    box-shadow: 0px 1px 2px rgba(60, 64, 67, 0.3), 0px 1px 3px 1px rgba(60, 64, 67, 0.15);\n",
              "    fill: #174EA6;\n",
              "  }\n",
              "\n",
              "  [theme=dark] .colab-df-quickchart {\n",
              "    background-color: #3B4455;\n",
              "    fill: #D2E3FC;\n",
              "  }\n",
              "\n",
              "  [theme=dark] .colab-df-quickchart:hover {\n",
              "    background-color: #434B5C;\n",
              "    box-shadow: 0px 1px 3px 1px rgba(0, 0, 0, 0.15);\n",
              "    filter: drop-shadow(0px 1px 2px rgba(0, 0, 0, 0.3));\n",
              "    fill: #FFFFFF;\n",
              "  }\n",
              "</style>\n",
              "\n",
              "  <script>\n",
              "    async function quickchart(key) {\n",
              "      const charts = await google.colab.kernel.invokeFunction(\n",
              "          'suggestCharts', [key], {});\n",
              "    }\n",
              "    (() => {\n",
              "      let quickchartButtonEl =\n",
              "        document.querySelector('#df-175fe40e-81a9-4783-b09b-039932b6ee22 button');\n",
              "      quickchartButtonEl.style.display =\n",
              "        google.colab.kernel.accessAllowed ? 'block' : 'none';\n",
              "    })();\n",
              "  </script>\n",
              "</div>\n",
              "    </div>\n",
              "  </div>\n"
            ]
          },
          "metadata": {},
          "execution_count": 135
        }
      ]
    },
    {
      "cell_type": "markdown",
      "source": [
        "### Creating CSV file with extracted information"
      ],
      "metadata": {
        "id": "Z_mrNLnSYmFq"
      }
    },
    {
      "cell_type": "code",
      "source": [
        "topics_df.to_csv('topics.csv', index = None)"
      ],
      "metadata": {
        "id": "fOerVbHbZF4x"
      },
      "execution_count": null,
      "outputs": []
    },
    {
      "cell_type": "markdown",
      "source": [
        "### Getting information out of a topic page\n",
        "\n",
        "\n"
      ],
      "metadata": {
        "id": "Cu2FqtTfdrS0"
      }
    },
    {
      "cell_type": "code",
      "source": [
        "def parse_star_count(stars_str):\n",
        "  stars_str = stars_str.strip()\n",
        "  if stars_str[-1] == 'k' :\n",
        "    return int(float(stars_str[:-1])*1000)"
      ],
      "metadata": {
        "id": "EF1tF1iFq1eZ"
      },
      "execution_count": null,
      "outputs": []
    },
    {
      "cell_type": "code",
      "source": [
        "def get_repo_info(h3_tag, star_tag):\n",
        "  username = h3_tag.find_all('a')[0].text.strip()\n",
        "  repo_name = h3_tag.find_all('a')[1].text.strip()\n",
        "  repo_url = \"https://github.com\"+h3_tag.find_all('a')[1].get(\"href\")\n",
        "  stars = parse_star_count(star_tag.text.strip())\n",
        "  return username, repo_name, stars, repo_url"
      ],
      "metadata": {
        "id": "vm12pYmSs9NV"
      },
      "execution_count": null,
      "outputs": []
    },
    {
      "cell_type": "code",
      "source": [
        "def get_topic_repos(topic_url):\n",
        "\n",
        "  # get the response for the particular topic url\n",
        "  response = requests.get(topic_url)\n",
        "\n",
        "  if response.status_code != 200:\n",
        "    raise Exception('Failed to connect'.format(topic_url))\n",
        "\n",
        "  # convert to html using beautiful soup\n",
        "  topic_doc = BeautifulSoup(response.text,'html.parser')\n",
        "\n",
        "  repo_tags = topic_doc.find_all('h3',{'class' : 'f3 color-fg-muted text-normal lh-condensed'})\n",
        "  star_tags = topic_doc.find_all('span',{'id' : 'repo-stars-counter-star'})\n",
        "\n",
        "  topic_repo_dict = {\n",
        "      'username' : [],\n",
        "      'repo_name' : [],\n",
        "      'stars' : [],\n",
        "      'repo_url' : []\n",
        "    }\n",
        "\n",
        "  for i in range(len(repo_tags)):\n",
        "    username, repo_name, stars, repo_url = get_repo_info(repo_tags[i], star_tags[i])\n",
        "    topic_repo_dict['username'].append(username)\n",
        "    topic_repo_dict['repo_name'].append(repo_name)\n",
        "    topic_repo_dict['stars'].append(stars)\n",
        "    topic_repo_dict['repo_url'].append(repo_url)\n",
        "\n",
        "  topic_repo_df = pd.DataFrame(topic_repo_dict)\n",
        "\n",
        "  return topic_repo_df\n",
        "\n",
        "\n",
        "\n"
      ],
      "metadata": {
        "id": "KJv28CV4yQYm"
      },
      "execution_count": null,
      "outputs": []
    },
    {
      "cell_type": "code",
      "source": [
        "import os"
      ],
      "metadata": {
        "id": "nKLUc4vZUnq9"
      },
      "execution_count": null,
      "outputs": []
    },
    {
      "cell_type": "code",
      "source": [
        "# for each topic url get the information about\n",
        "# the top repositories for that topic\n",
        "# and save the information procured to a csv file\n",
        "# having the name of the topic\n",
        "\n",
        "for index,row in topics_df.iterrows():\n",
        "\n",
        "  topic_url = row['url']\n",
        "  topic_repos_df = get_topic_repos(topic_url)\n",
        "  topic_name = row['title']\n",
        "  file_name = topic_name+'.csv'\n",
        "\n",
        "  # checking if file already exists\n",
        "  if os.path.exists(file_name):\n",
        "    print(\"The file {} already exists....\".format(file_name))\n",
        "    continue\n",
        "  else :\n",
        "    print(\"Scrapping file {}\".format(file_name))\n",
        "\n",
        "  topic_repos_df.to_csv(file_name,index=None)"
      ],
      "metadata": {
        "id": "ZAADx4ZYvwi8",
        "colab": {
          "base_uri": "https://localhost:8080/"
        },
        "outputId": "cb7cbf88-cfb5-4db5-8476-e08bf9d1c4be"
      },
      "execution_count": null,
      "outputs": [
        {
          "output_type": "stream",
          "name": "stdout",
          "text": [
            "The file 3D.csv already exists....\n",
            "The file Ajax.csv already exists....\n",
            "The file Algorithm.csv already exists....\n",
            "The file Amp.csv already exists....\n",
            "The file Android.csv already exists....\n",
            "The file Angular.csv already exists....\n",
            "The file Ansible.csv already exists....\n",
            "The file API.csv already exists....\n",
            "The file Arduino.csv already exists....\n",
            "The file ASP.NET.csv already exists....\n",
            "The file Atom.csv already exists....\n",
            "The file Awesome Lists.csv already exists....\n",
            "The file Amazon Web Services.csv already exists....\n",
            "The file Azure.csv already exists....\n",
            "The file Babel.csv already exists....\n",
            "The file Bash.csv already exists....\n",
            "The file Bitcoin.csv already exists....\n",
            "The file Bootstrap.csv already exists....\n",
            "The file Bot.csv already exists....\n",
            "The file C.csv already exists....\n",
            "The file Chrome.csv already exists....\n",
            "The file Chrome extension.csv already exists....\n",
            "The file Command line interface.csv already exists....\n",
            "The file Clojure.csv already exists....\n",
            "The file Code quality.csv already exists....\n",
            "The file Code review.csv already exists....\n",
            "The file Compiler.csv already exists....\n",
            "The file Continuous integration.csv already exists....\n",
            "The file COVID-19.csv already exists....\n",
            "The file C++.csv already exists....\n"
          ]
        }
      ]
    },
    {
      "cell_type": "code",
      "source": [],
      "metadata": {
        "id": "jov4xZD4yD99"
      },
      "execution_count": null,
      "outputs": []
    },
    {
      "cell_type": "code",
      "source": [],
      "metadata": {
        "id": "PehdS3__BsDG"
      },
      "execution_count": null,
      "outputs": []
    }
  ]
}